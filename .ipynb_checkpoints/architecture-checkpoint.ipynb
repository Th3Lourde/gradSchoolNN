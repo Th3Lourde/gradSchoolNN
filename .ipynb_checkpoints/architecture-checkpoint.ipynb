{
 "cells": [
  {
   "cell_type": "markdown",
   "metadata": {},
   "source": [
    "### This notebook is dedicated towards model creation \n",
    "\n",
    "In this notebook, our aim is to create:\n",
    "\n",
    "\n",
    "![scaledNN.png](scaledNN.png)\n",
    "\n",
    "We will achieve our goal in the following way:\n",
    "\n",
    "<ol>\n",
    "    <li>[Forward Propagation] Defining the linear layers</li>\n",
    "    <li>[Forward Propagation] Defining the cost function</li>\n",
    "    <li>[Forward Propagation] Implementing with data</li>\n",
    "    <li>[Backward Propagation] Defining within the cost function</li>\n",
    "    <li>[Backward Propagation] Defining within the linear layers</li>\n",
    "    <li>[Backward Propagation] Implementing with data</li>\n",
    "    <li>[Backward Propagation] playing with various hyperparameters</li>\n",
    "</ol>\n",
    "\n",
    "In order to create our model, we will be defining classes."
   ]
  },
  {
   "cell_type": "markdown",
   "metadata": {},
   "source": [
    "### 1. [Forward Propagation] Defining the linear layers\n",
    "<ul>\n",
    "    <li>a) Class Architecture</li>\n",
    "    <li>b) Weight Initialization</li>\n",
    "</ul>\n",
    "\n",
    "The goal is to create a class whose objects, when called, return the output of a hidden layer composed of 10 linear nodes.\n",
    "\n",
    "Our class should support a general input, meaning we should be able to use the same class for `Hidden Layer 1` and `Hidden Layers 2-5`.\n",
    "\n",
    "The weights and bias values of the layer are initialized when the class is called. We create the weights and bias values outside of the class and then pass them to `Linear` when we are creating a layer."
   ]
  },
  {
   "cell_type": "markdown",
   "metadata": {},
   "source": [
    "### a) Class Architecture\n",
    "In order to be useful for forward propagation, a hidden layer must be able to have the appropriate number of weight and bias values as well as the ability to output the signals of the entire layer given the signals of the previous layer.\n",
    "\n",
    "We have two things to define: what is required to create an instance of our class and what happens when an instance is called.\n",
    "\n",
    "That which is required to create an instance of our class is detailed in `__init__`. In this implementation, we create our weights `w` and bias `b` before creating a linear layer.\n",
    "\n",
    "In our notebooks, we will be using `pytorch` to represent our matrices."
   ]
  },
  {
   "cell_type": "code",
   "execution_count": 19,
   "metadata": {},
   "outputs": [],
   "source": [
    "import torch"
   ]
  },
  {
   "cell_type": "code",
   "execution_count": 7,
   "metadata": {},
   "outputs": [],
   "source": [
    "class Linear_a:\n",
    "    def __init__(self, w, b):\n",
    "        self.w = w\n",
    "        self.b = b"
   ]
  },
  {
   "cell_type": "code",
   "execution_count": 35,
   "metadata": {},
   "outputs": [],
   "source": [
    "w = torch.tensor([[1.], [2.], [3.], [4.]])\n",
    "b = torch.tensor([[3., 4., 5., 5.]])"
   ]
  },
  {
   "cell_type": "code",
   "execution_count": 27,
   "metadata": {},
   "outputs": [
    {
     "name": "stdout",
     "output_type": "stream",
     "text": [
      "The weights of [exampleHidden] are tensor([[1., 2., 3., 4.]]).\n",
      "The bias values of [exampleHidden] are tensor([[3., 4., 5., 5.]]).\n"
     ]
    }
   ],
   "source": [
    "exampleHidden = Linear_a(w,b)\n",
    "print(\"The weights of [exampleHidden] are {}.\".format(exampleHidden.w))\n",
    "print(\"The bias values of [exampleHidden] are {}.\".format(exampleHidden.b))"
   ]
  },
  {
   "cell_type": "markdown",
   "metadata": {},
   "source": [
    "So our class can take in weight/bias values and store them. We want an instance, when called with an input, to return the activation of the layer. This means multiplying the weights and the input and adding the bias. In the example above, `exampleHidden` is an instance of the class `Linear_a`.\n",
    "\n",
    "Everything in our class is a matrix. Assuming that everything is the right size, we would update our implementation in the following way:"
   ]
  },
  {
   "cell_type": "code",
   "execution_count": 28,
   "metadata": {},
   "outputs": [],
   "source": [
    "class Linear_b:\n",
    "    def __init__(self, w, b):\n",
    "        self.w = w\n",
    "        self.b = b\n",
    "        \n",
    "    def __call__(self, inp):\n",
    "        # @ represents matrix multiplication\n",
    "        return inp@self.w + self.b"
   ]
  },
  {
   "cell_type": "markdown",
   "metadata": {},
   "source": [
    "Where `__call__` describes what we want to have happen when an instance of our class is called. In this case, we are saying that our instance will be called with `inp`."
   ]
  },
  {
   "cell_type": "code",
   "execution_count": 36,
   "metadata": {},
   "outputs": [],
   "source": [
    "w = torch.tensor([[1.], [2.], [3.], [4.]])\n",
    "b = torch.tensor([[3.]])\n",
    "inp = torch.tensor([[2.,3.,5.,2.]])"
   ]
  },
  {
   "cell_type": "code",
   "execution_count": 37,
   "metadata": {},
   "outputs": [
    {
     "name": "stdout",
     "output_type": "stream",
     "text": [
      "The weights of [exampleHidden] are tensor([[1.],\n",
      "        [2.],\n",
      "        [3.],\n",
      "        [4.]]).\n",
      "The bias values of [exampleHidden] are tensor([[3.]]).\n"
     ]
    }
   ],
   "source": [
    "exampleHidden2 = Linear_b(w,b)\n",
    "print(\"The weights of [exampleHidden] are {}.\".format(exampleHidden2.w))\n",
    "print(\"The bias values of [exampleHidden] are {}.\".format(exampleHidden2.b))"
   ]
  },
  {
   "cell_type": "code",
   "execution_count": 40,
   "metadata": {},
   "outputs": [
    {
     "name": "stdout",
     "output_type": "stream",
     "text": [
      "When called, exampleHidden2(inp) returns tensor([[34.]])\n"
     ]
    }
   ],
   "source": [
    "print(\"When called, exampleHidden2(inp) returns {}\".format(exampleHidden2(inp)))"
   ]
  },
  {
   "cell_type": "code",
   "execution_count": 42,
   "metadata": {},
   "outputs": [
    {
     "data": {
      "text/plain": [
       "tensor([[34.]])"
      ]
     },
     "execution_count": 42,
     "metadata": {},
     "output_type": "execute_result"
    }
   ],
   "source": [
    "output = exampleHidden2(inp)\n",
    "output"
   ]
  },
  {
   "cell_type": "markdown",
   "metadata": {},
   "source": [
    "#### What we have created:\n",
    "In the cell above, we have simulated the following:"
   ]
  },
  {
   "cell_type": "code",
   "execution_count": null,
   "metadata": {},
   "outputs": [],
   "source": []
  },
  {
   "cell_type": "code",
   "execution_count": null,
   "metadata": {},
   "outputs": [],
   "source": []
  },
  {
   "cell_type": "markdown",
   "metadata": {},
   "source": [
    "# Want-To:\n",
    "Reframe the discussion so the audience isn't like wtf. Rewrite other stuff?"
   ]
  },
  {
   "cell_type": "code",
   "execution_count": null,
   "metadata": {},
   "outputs": [],
   "source": []
  },
  {
   "cell_type": "code",
   "execution_count": null,
   "metadata": {},
   "outputs": [],
   "source": []
  },
  {
   "cell_type": "code",
   "execution_count": null,
   "metadata": {},
   "outputs": [],
   "source": []
  },
  {
   "cell_type": "code",
   "execution_count": null,
   "metadata": {},
   "outputs": [],
   "source": []
  },
  {
   "cell_type": "code",
   "execution_count": null,
   "metadata": {},
   "outputs": [],
   "source": []
  },
  {
   "cell_type": "code",
   "execution_count": 6,
   "metadata": {},
   "outputs": [],
   "source": [
    "class Linear:\n",
    "    def __init__(self, w, b):\n",
    "        self.w = w\n",
    "        self.b = b\n",
    "        \n",
    "    def __call__(self, inp):\n",
    "        return inp@self.w + self.b"
   ]
  },
  {
   "cell_type": "code",
   "execution_count": 3,
   "metadata": {},
   "outputs": [],
   "source": [
    "import torch"
   ]
  },
  {
   "cell_type": "code",
   "execution_count": 4,
   "metadata": {},
   "outputs": [],
   "source": [
    "x = torch.randn(4)"
   ]
  },
  {
   "cell_type": "code",
   "execution_count": 5,
   "metadata": {},
   "outputs": [
    {
     "data": {
      "text/plain": [
       "tensor([ 0.9834,  0.4523, -0.0304, -2.0630])"
      ]
     },
     "execution_count": 5,
     "metadata": {},
     "output_type": "execute_result"
    }
   ],
   "source": [
    "x"
   ]
  }
 ],
 "metadata": {
  "kernelspec": {
   "display_name": "Python 3",
   "language": "python",
   "name": "python3"
  },
  "language_info": {
   "codemirror_mode": {
    "name": "ipython",
    "version": 3
   },
   "file_extension": ".py",
   "mimetype": "text/x-python",
   "name": "python",
   "nbconvert_exporter": "python",
   "pygments_lexer": "ipython3",
   "version": "3.6.9"
  }
 },
 "nbformat": 4,
 "nbformat_minor": 4
}
